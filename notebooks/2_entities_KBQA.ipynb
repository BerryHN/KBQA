{
 "cells": [
  {
   "cell_type": "markdown",
   "metadata": {},
   "source": [
    "# Entity candidates"
   ]
  },
  {
   "cell_type": "code",
   "execution_count": 11,
   "metadata": {},
   "outputs": [
    {
     "name": "stdout",
     "output_type": "stream",
     "text": [
      "Connection success.\n"
     ]
    }
   ],
   "source": [
    "# setup\n",
    "dataset_name = 'lcquad'\n",
    "\n",
    "import os\n",
    "os.chdir('/home/zola/Projects/KBQA/src')\n",
    "\n",
    "# connect to entity catalog indexed with Lucene \n",
    "from elasticsearch import Elasticsearch\n",
    "from urllib.parse import quote\n",
    "\n",
    "class IndexSearch:\n",
    "    \n",
    "    def __init__(self, index_name):\n",
    "        # set up ES connection\n",
    "        self.es = Elasticsearch()\n",
    "        self.index = index_name\n",
    "        self.type = 'terms'\n",
    "\n",
    "    def match_label(self, string, top=100):\n",
    "        return self.es.search(index=self.index,\n",
    "                              body={\"query\": {\"multi_match\": {\"query\": string,\n",
    "                                                              \"operator\": \"and\",\n",
    "                                                              \"fields\": [\"label^10\", \"label.ngrams\"],\n",
    "                                                              }}},\n",
    "                              size=top, doc_type=self.type)['hits']['hits']\n",
    "\n",
    "    def look_up_by_uri(self, uri, top=1):\n",
    "        results = self.es.search(index=self.index,\n",
    "                              body={\"query\": {\"term\": {\"uri\": quote(uri, safe='():/,')}}},\n",
    "                              size=top, doc_type=self.type)['hits']['hits']\n",
    "        if not results:\n",
    "            # fall back to label match\n",
    "            return self.match_label(uri.split('/')[-1], top=1)\n",
    "            \n",
    "        return results\n",
    "\n",
    "\n",
    "e_index = IndexSearch('dbpedia201604e')\n",
    "\n",
    "# set up connection to the MongoDB where the QA dataset is stored\n",
    "# sudo service mongod start (27017 is the default port)\n",
    "from pymongo import MongoClient\n",
    "import json\n",
    "import pprint\n",
    "\n",
    "class Mongo_Connector():\n",
    "    '''\n",
    "    Wrapper class for some of the pymongo functions: http://api.mongodb.com/python/current/tutorial.html\n",
    "    '''\n",
    "\n",
    "    def __init__(self, db_name, col_name):\n",
    "        # spin up database\n",
    "        self.mongo_client = MongoClient()\n",
    "        self.db = self.mongo_client[db_name]\n",
    "        self.col = self.db[col_name]\n",
    "        print(\"Connection success.\")\n",
    "    \n",
    "    def count_all_docs(self):\n",
    "        count = self.col.count_documents({})\n",
    "        print (\"%d docs\"%count)\n",
    "    \n",
    "    def load_json(self, json_file_path):\n",
    "        with open(json_file_path, \"r\") as json_file:\n",
    "            docs = json.load(json_file)\n",
    "        dataset_size = len(docs)\n",
    "        print (\"%d docs\"%(dataset_size))\n",
    "        self.col.insert_many(docs)\n",
    "\n",
    "    def show_example(self):\n",
    "        pprint.pprint(self.col.find_one())\n",
    "    \n",
    "    def get_sample(self, sample_size=100):\n",
    "        cursor = self.col.find()\n",
    "        if sample_size:\n",
    "            cursor = cursor.limit(sample_size)\n",
    "        return cursor\n",
    "\n",
    "mongo = Mongo_Connector('kbqa', dataset_name)"
   ]
  },
  {
   "cell_type": "code",
   "execution_count": 12,
   "metadata": {},
   "outputs": [
    {
     "name": "stdout",
     "output_type": "stream",
     "text": [
      "Preparing lcquad dataset\n",
      "http://dbpedia.org/resource/Ys_I_&_II not found in the entity catalog\n",
      "http://dbpedia.org/resource/$24_in_24 not found in the entity catalog\n",
      "Loaded 2574 lcquad questions\n"
     ]
    }
   ],
   "source": [
    "# load lcquad samples from MongoDB\n",
    "limit = None\n",
    "qas = mongo.get_sample(limit)\n",
    "\n",
    "# prepare data for entity and predicate mention extraction models training via sequence tagging\n",
    "import urllib.parse\n",
    "from keras.preprocessing.text import text_to_word_sequence\n",
    "\n",
    "questions = []\n",
    "question_words = []\n",
    "n_words_distr = []\n",
    "\n",
    "correct_e_spans = []\n",
    "y_e = []\n",
    "correct_entities_uris = []\n",
    "correct_entities_ids = []\n",
    "\n",
    "correct_answers_uris = []\n",
    "correct_answers_ids = []\n",
    "\n",
    "print(\"Preparing %s dataset\"%dataset_name)\n",
    "for q in qas:\n",
    "#     pprint.pprint(q)\n",
    "    # parse question\n",
    "    question_o = q['question']\n",
    "    questions.append(question_o)\n",
    "    words = text_to_word_sequence(question_o)\n",
    "    n_words_distr.append(len(words))\n",
    "    question_words.append(words)\n",
    "\n",
    "    # generate IO tags from mention spans\n",
    "    entity_spans = [e['label'].lower() for e in q['entity mapping']]\n",
    "    correct_e_spans.append(entity_spans)\n",
    "    y_e.append([1 if word in [entity for entity_span in entity_spans for entity in entity_span.split()] else 0 for word in words])\n",
    "    \n",
    "    e_uris = [e['uri'].replace(\"'\", \"\") for e in q['entity mapping']]\n",
    "    correct_entities_uris.append(e_uris)\n",
    "    e_ids = [e_index.look_up_by_uri(uri, top=1)[0]['_source']['id'] for uri in e_uris]\n",
    "    correct_entities_ids.append(e_ids)\n",
    "    \n",
    "    a_uris = [e_uri.replace(\"'\", \"\") for e_uri in q['answers']]\n",
    "    correct_answers_uris.append(a_uris)\n",
    "    a_ids = []\n",
    "    for uri in a_uris:\n",
    "        try:\n",
    "            a_ids.append(e_index.look_up_by_uri(uri, top=1)[0]['_source']['id'])\n",
    "        except:\n",
    "            print(\"%s not found in the entity catalog\"%uri)\n",
    "    correct_answers_ids.append(a_ids)\n",
    "    \n",
    "dataset_size = len(questions)\n",
    "print(\"Loaded %d %s questions\"%(dataset_size, dataset_name))"
   ]
  },
  {
   "cell_type": "code",
   "execution_count": 13,
   "metadata": {},
   "outputs": [
    {
     "name": "stdout",
     "output_type": "stream",
     "text": [
      "What is the common affiliation of the Monroe Carell Jr. Children's Hospital at Vanderbilt and alma mater of the Duncan U. Fletcher?\n",
      "[\"monroe carell jr. children's hospital at vanderbilt\", 'duncan u. fletcher']\n",
      "[0, 0, 0, 0, 0, 0, 0, 1, 1, 0, 1, 1, 1, 1, 0, 0, 0, 0, 0, 1, 0, 1]\n",
      "['http://dbpedia.org/resource/Monroe_Carell_Jr._Childrens_Hospital_at_Vanderbilt', 'http://dbpedia.org/resource/Duncan_U._Fletcher']\n",
      "[16583016, 9389949]\n",
      "['http://dbpedia.org/resource/Vanderbilt_University']\n",
      "[23223531]\n"
     ]
    }
   ],
   "source": [
    "# show sample question\n",
    "i = 5\n",
    "print(questions[i])\n",
    "print(correct_e_spans[i])\n",
    "print(y_e[i])\n",
    "print(correct_entities_uris[i])\n",
    "print(correct_entities_ids[i])\n",
    "print(correct_answers_uris[i])\n",
    "print(correct_answers_ids[i])"
   ]
  },
  {
   "cell_type": "markdown",
   "metadata": {},
   "source": [
    "## Correct spans\n",
    "\n",
    "Estimate the upper bound for entity scoring function performance on the correct entity spans"
   ]
  },
  {
   "cell_type": "code",
   "execution_count": 29,
   "metadata": {},
   "outputs": [
    {
     "name": "stdout",
     "output_type": "stream",
     "text": [
      "Entity match recall estimated on 500 questions @5\n"
     ]
    }
   ],
   "source": [
    "# check if the correct entities are in the subgraph 1-hop away from the top entities\n",
    "# path to KG\n",
    "from hdt import HDTDocument\n",
    "hdt_path = \"/home/zola/Projects/hdt-cpp-molecules/libhdt/data/\"\n",
    "hdt_file = 'dbpedia2016-04en.hdt'\n",
    "namespace = \"http://dbpedia.org/\"\n",
    "\n",
    "\n",
    "def evaluate_entity_ranking(_e_spans, indices, top_n):\n",
    "    '''\n",
    "    Estimate ranking accuracy:\n",
    "    n_samples <int> size of the sample questions pool\n",
    "    top_n <int> threshold for the number of top entities \n",
    "    '''\n",
    "    n_correct_entities, n_correct_entities_1hop = 0, 0\n",
    "    n_correct_answers_1hop = 0\n",
    "    # match entities\n",
    "    for i in indices:\n",
    "        top_e_ids = []\n",
    "        \n",
    "        # entities index lookup\n",
    "        for span in _e_spans[i]:\n",
    "            for match in e_index.match_label(span, top=top_n):\n",
    "                top_e_ids.append(match['_source']['id'])\n",
    "        \n",
    "        if set(correct_entities_ids[i]).issubset(set(top_e_ids)):\n",
    "            n_correct_entities += 1\n",
    "        \n",
    "        # extract a subgraph for top entities\n",
    "        kg = HDTDocument(hdt_path+hdt_file)\n",
    "        # all predicates: 1 hop\n",
    "        kg.configure_hops(1, [], namespace, True)\n",
    "        entities, _, _ = kg.compute_hops(top_e_ids)\n",
    "        if set(correct_entities_ids[i]).issubset(set(entities)):\n",
    "            n_correct_entities_1hop += 1\n",
    "        if set(correct_answers_ids[i]).issubset(set(entities)):\n",
    "            n_correct_answers_1hop += 1\n",
    "        kg.remove()\n",
    "\n",
    "\n",
    "    r_entities = float(n_correct_entities) / n_samples\n",
    "    r_entities_1hop = float(n_correct_entities_1hop) / n_samples\n",
    "    r_answers_1hop = float(n_correct_answers_1hop) / n_samples\n",
    "    \n",
    "    return [r_entities, r_entities_1hop, r_answers_1hop]\n",
    "\n",
    "\n",
    "# define sample size for evaluation\n",
    "n_samples = 500\n",
    "top_n_range = [1, 5]\n",
    "print(\"Entity match recall estimated on %d questions @%d\"%(n_samples, top_n_range[1]))\n",
    "# shuffle dataset to get a random sample\n",
    "from random import shuffle\n",
    "index_shuf = list(range(dataset_size))\n",
    "shuffle(index_shuf)\n",
    "index_shuf = index_shuf[:n_samples]\n",
    "assert len(index_shuf) == n_samples"
   ]
  },
  {
   "cell_type": "code",
   "execution_count": 30,
   "metadata": {},
   "outputs": [
    {
     "name": "stdout",
     "output_type": "stream",
     "text": [
      "       0      1      2\n",
      "0  0.000  0.000  0.000\n",
      "1  0.528  0.746  0.700\n",
      "2  0.666  0.836  0.776\n",
      "3  0.716  0.854  0.798\n",
      "4  0.738  0.878  0.808\n",
      "5  0.762  0.892  0.814\n"
     ]
    },
    {
     "data": {
      "image/png": "[encoded data removed]",
      "text/plain": [
       "<Figure size 864x864 with 1 Axes>"
      ]
     },
     "metadata": {},
     "output_type": "display_data"
    }
   ],
   "source": [
    "# evaluate on correct entity spans\n",
    "top_n = top_n_range[0]\n",
    "results = [[0, 0, 0]]  # recalls at 0\n",
    "while top_n <= top_n_range[1]:\n",
    "    results.append(evaluate_entity_ranking(correct_e_spans, index_shuf, top_n))\n",
    "    top_n += 1\n",
    "    \n",
    "# show result\n",
    "import pandas as pd\n",
    "results = pd.DataFrame(results)\n",
    "print(results)\n",
    "\n",
    "# plot\n",
    "%matplotlib inline\n",
    "import matplotlib.pyplot as plt\n",
    "plt.style.use(\"ggplot\")\n",
    "plt.figure(figsize=(12,12))\n",
    "plt.plot(results[0], label='Entity match')\n",
    "plt.plot(results[1], label='1-hop entity match')\n",
    "plt.plot(results[2], label='1-hop answer match')\n",
    "plt.legend()\n",
    "plt.show()"
   ]
  },
  {
   "cell_type": "markdown",
   "metadata": {},
   "source": [
    "## Extracted spans\n",
    "\n",
    "Estimate performance on the extracted entity spans using the mention extraction model"
   ]
  },
  {
   "cell_type": "code",
   "execution_count": 18,
   "metadata": {},
   "outputs": [
    {
     "name": "stderr",
     "output_type": "stream",
     "text": [
      "/home/zola/anaconda3/envs/tf36/lib/python3.6/site-packages/keras_contrib/layers/crf.py:314: UserWarning: CRF.loss_function is deprecated and it might be removed in the future. Please use losses.crf_loss instead.\n",
      "  warnings.warn('CRF.loss_function is deprecated and it might be removed in the future. Please '\n",
      "/home/zola/anaconda3/envs/tf36/lib/python3.6/site-packages/keras_contrib/layers/crf.py:320: UserWarning: CRF.accuracy is deprecated and it might be removed in the future. Please use metrics.crf_accuracy\n",
      "  warnings.warn('CRF.accuracy is deprecated and it might be removed in the future. Please '\n"
     ]
    },
    {
     "name": "stdout",
     "output_type": "stream",
     "text": [
      "_________________________________________________________________\n",
      "Layer (type)                 Output Shape              Param #   \n",
      "=================================================================\n",
      "input_2 (InputLayer)         (None, 25)                0         \n",
      "_________________________________________________________________\n",
      "embedding_2 (Embedding)      (None, 25, 100)           711400    \n",
      "_________________________________________________________________\n",
      "bidirectional_2 (Bidirection (None, 25, 100)           60400     \n",
      "_________________________________________________________________\n",
      "time_distributed_2 (TimeDist (None, 25, 50)            5050      \n",
      "_________________________________________________________________\n",
      "crf_2 (CRF)                  (None, 25, 2)             110       \n",
      "=================================================================\n",
      "Total params: 776,960\n",
      "Trainable params: 65,560\n",
      "Non-trainable params: 711,400\n",
      "_________________________________________________________________\n"
     ]
    }
   ],
   "source": [
    "# load pre-trained entity mention extraction model\n",
    "embeddings_choice = 'glove6B100d'\n",
    "\n",
    "from keras.models import Model, Input\n",
    "from keras.layers import LSTM, Embedding, Dense, TimeDistributed, Dropout, Bidirectional\n",
    "from keras_contrib.layers import CRF\n",
    "from keras.optimizers import Adam\n",
    "\n",
    "def build_model(model_settings):\n",
    "    # architecture\n",
    "    input = Input(shape=(model_settings['max_len'],))\n",
    "    model = Embedding(input_dim=model_settings['n_words']+1, output_dim=model_settings['emb_dim'],\n",
    "                      weights=[model_settings['embeddings']],\n",
    "                      input_length=model_settings['max_len'], mask_zero=True, trainable=False)(input)\n",
    "    model = Bidirectional(LSTM(units=50, return_sequences=True,\n",
    "                               recurrent_dropout=0.1))(model)  # variational biLSTM\n",
    "    model = TimeDistributed(Dense(50, activation=\"relu\"))(model)  # a dense layer as suggested by neuralNer\n",
    "    crf = CRF(model_settings['n_tags'])  # CRF layer\n",
    "    out = crf(model)  # output\n",
    "    model = Model(input, out)\n",
    "    model.compile(optimizer=Adam(lr=0.0001), loss=crf.loss_function, metrics=[crf.accuracy])\n",
    "    model.summary()\n",
    "    return model\n",
    "\n",
    "# load model settings\n",
    "import pickle as pkl\n",
    "with open('%s_%s.pkl'%(dataset_name, embeddings_choice), 'rb') as f:\n",
    "    model_settings = pkl.load(f)\n",
    "model = build_model(model_settings)\n",
    "\n",
    "# load weights\n",
    "model_name = 'entity_model'\n",
    "model.load_weights('model/'+model_name+'.h5')"
   ]
  },
  {
   "cell_type": "code",
   "execution_count": 19,
   "metadata": {},
   "outputs": [
    {
     "name": "stdout",
     "output_type": "stream",
     "text": [
      "Accuracy estimated on 2574 questions\n",
      "\n",
      "Acc: 0.52 \n"
     ]
    }
   ],
   "source": [
    "# evaluate entity span detection\n",
    "import numpy as np\n",
    "from keras.preprocessing.sequence import pad_sequences\n",
    "\n",
    "def evaluate_entity_span_extraction(show_errors=False):\n",
    "    n_correct = 0\n",
    "    questions_e_spans = []\n",
    "    for i, words in enumerate(question_words):\n",
    "        x_test_sent = pad_sequences(sequences=[[model_settings['word2idx'].get(w, 'unk') for w in words]],\n",
    "                                    padding=\"post\", value=0, maxlen=model_settings['max_len'])\n",
    "        p = model.predict(np.array([x_test_sent[0]]))\n",
    "        p = np.argmax(p, axis=-1)[0]\n",
    "\n",
    "        e_span, e_spans = [], []\n",
    "        for w, pred in zip(words, p):\n",
    "            if pred > 0:\n",
    "                e_span.append(w)\n",
    "            elif e_span:\n",
    "                e_spans.append(\" \".join(e_span))\n",
    "                e_span = []\n",
    "        # add last span\n",
    "        if e_span:\n",
    "            e_spans.append(\" \".join(e_span))\n",
    "            e_span = []\n",
    "\n",
    "        if set(correct_e_spans[i]) == set(e_spans):\n",
    "            n_correct += 1\n",
    "        elif show_errors:\n",
    "            print('\\n')\n",
    "            print(set(e_spans))\n",
    "            # show correct spans\n",
    "            print(set(correct_e_spans[i]))\n",
    "        questions_e_spans.append(e_spans)\n",
    "    p = float(n_correct) / dataset_size\n",
    "    print(\"\\nAcc: %.2f \"%(p))\n",
    "    return questions_e_spans\n",
    "\n",
    "# evaluate\n",
    "print(\"Accuracy estimated on %d questions\"%(dataset_size))\n",
    "extracted_e_spans = evaluate_entity_span_extraction()"
   ]
  },
  {
   "cell_type": "code",
   "execution_count": 31,
   "metadata": {},
   "outputs": [
    {
     "name": "stdout",
     "output_type": "stream",
     "text": [
      "       0      1      2\n",
      "0  0.000  0.000  0.000\n",
      "1  0.416  0.608  0.610\n",
      "2  0.520  0.694  0.680\n",
      "3  0.558  0.718  0.700\n",
      "4  0.574  0.732  0.714\n",
      "5  0.596  0.750  0.724\n"
     ]
    },
    {
     "data": {
      "image/png": "[encoded data removed]",
      "text/plain": [
       "<Figure size 864x864 with 1 Axes>"
      ]
     },
     "metadata": {},
     "output_type": "display_data"
    }
   ],
   "source": [
    "# evaluate on correct entity spans\n",
    "top_n = top_n_range[0]\n",
    "results = [[0, 0, 0]]  # recalls at 0\n",
    "while top_n <= top_n_range[1]:\n",
    "    results.append(evaluate_entity_ranking(extracted_e_spans, index_shuf, top_n))\n",
    "    top_n += 1\n",
    "    \n",
    "# show result\n",
    "import pandas as pd\n",
    "results = pd.DataFrame(results)\n",
    "print(results)\n",
    "\n",
    "# plot\n",
    "%matplotlib inline\n",
    "import matplotlib.pyplot as plt\n",
    "plt.style.use(\"ggplot\")\n",
    "plt.figure(figsize=(12,12))\n",
    "plt.plot(results[0], label='Entity match')\n",
    "plt.plot(results[1], label='1-hop entity match')\n",
    "plt.plot(results[2], label='1-hop answer match')\n",
    "plt.legend()\n",
    "plt.show()"
   ]
  },
  {
   "cell_type": "code",
   "execution_count": null,
   "metadata": {},
   "outputs": [],
   "source": []
  }
 ],
 "metadata": {
  "kernelspec": {
   "display_name": "tf36",
   "language": "python",
   "name": "tf36"
  },
  "language_info": {
   "codemirror_mode": {
    "name": "ipython",
    "version": 3
   },
   "file_extension": ".py",
   "mimetype": "text/x-python",
   "name": "python",
   "nbconvert_exporter": "python",
   "pygments_lexer": "ipython3",
   "version": "3.6.7"
  }
 },
 "nbformat": 4,
 "nbformat_minor": 2
}
