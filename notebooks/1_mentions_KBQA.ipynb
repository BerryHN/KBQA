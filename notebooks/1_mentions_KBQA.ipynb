{
 "cells": [
  {
   "cell_type": "markdown",
   "metadata": {},
   "source": [
    "# Mentions Extraction for KBQA\n",
    "\n",
    "Parsing question into entities and predicate mentions text spans.\n",
    "\n",
    "bi-LSTM + CRF  \n",
    "https://github.com/UKPLab/emnlp2017-bilstm-cnn-crf  \n",
    "https://www.depends-on-the-definition.com/sequence-tagging-lstm-crf/  \n",
    "https://github.com/SNUDerek/multiLSTM  "
   ]
  },
  {
   "cell_type": "code",
   "execution_count": 2,
   "metadata": {},
   "outputs": [
    {
     "name": "stderr",
     "output_type": "stream",
     "text": [
      "Using TensorFlow backend.\n"
     ]
    }
   ],
   "source": [
    "# setup\n",
    "dataset_name = 'lcquad'\n",
    "embeddings_choice = 'glove6B100d'\n",
    "\n",
    "import numpy as np\n",
    "# set seed\n",
    "from numpy.random import seed\n",
    "seed(1)\n",
    "from tensorflow import set_random_seed\n",
    "set_random_seed(2)\n",
    "\n",
    "import os\n",
    "os.chdir('/home/zola/Projects/KBQA/src')\n",
    "\n",
    "# load word frequencies\n",
    "import pickle\n",
    "wfd = pickle.load(open(\"wfd.pkl\", \"rb\"))\n",
    "\n",
    "# make sure Keras is using the GPU\n",
    "from keras import backend\n",
    "assert len(backend.tensorflow_backend._get_available_gpus()) > 0\n",
    "\n",
    "# load pre-trained word embeddings\n",
    "from pymagnitude import *\n",
    "embeddings_path = \"/home/zola/Projects/KBQA/data/embeddings/\"\n",
    "embeddings = {'glove6B100d': \"glove.6B.100d.magnitude\"}\n",
    "vectors = Magnitude(embeddings_path + embeddings[embeddings_choice])"
   ]
  },
  {
   "cell_type": "code",
   "execution_count": 3,
   "metadata": {},
   "outputs": [
    {
     "name": "stdout",
     "output_type": "stream",
     "text": [
      "Loaded 5000/5000 lcquad questions\n"
     ]
    }
   ],
   "source": [
    "# load lcquad span annotations\n",
    "# wget https://raw.githubusercontent.com/AskNowQA/EARL/master/data/lcquad.json\n",
    "import json\n",
    "with open(\"../data/%s.json\"%dataset_name, \"r\") as file:\n",
    "    qas = json.load(file)\n",
    "\n",
    "# prepare data for entity and predicate mention extraction models training via sequence tagging\n",
    "limit = 5000\n",
    "from keras.preprocessing.text import text_to_word_sequence\n",
    "\n",
    "questions = []\n",
    "n_words_distr = []\n",
    "\n",
    "e_spans = []\n",
    "y_e = []\n",
    "correct_entities_uris = []\n",
    "\n",
    "p_spans = []\n",
    "y_p = []\n",
    "correct_predicates_uris = []\n",
    "\n",
    "for q in qas[:limit]:\n",
    "    # parse question\n",
    "    question_o = q['question']\n",
    "    words = text_to_word_sequence(question_o)\n",
    "    n_words_distr.append(len(words))\n",
    "    questions.append(words)\n",
    "\n",
    "    # generate IO tags from mention spans\n",
    "    entity_spans = [e['label'].lower().split() for e in q['entity mapping']]\n",
    "    e_spans.append(entity_spans)\n",
    "    y_e.append([1 if word in [entity for entity_span in entity_spans for entity in entity_span] else 0 for word in words])\n",
    "    correct_entities_uris.append([e['uri'] for e in q['entity mapping']])\n",
    "    \n",
    "    predicate_spans = [e['label'].lower().split() for e in q['predicate mapping']]\n",
    "    p_spans.append(predicate_spans)\n",
    "    y_p.append([1 if word in [entity for entity_span in predicate_spans for entity in entity_span] else 0 for word in words])\n",
    "    correct_predicates_uris.append([e['uri'] for e in q['predicate mapping']])\n",
    "\n",
    "dataset_size = len(questions)\n",
    "print(\"Loaded %d/%d %s questions\"%(dataset_size, len(qas), dataset_name))"
   ]
  },
  {
   "cell_type": "code",
   "execution_count": 4,
   "metadata": {},
   "outputs": [
    {
     "name": "stdout",
     "output_type": "stream",
     "text": [
      "Was winston churchill the prime minister of Selwyn Lloyd?\n",
      "\n",
      "\n",
      "[['selwyn', 'lloyd'], ['winston', 'churchill']]\n",
      "[0, 1, 1, 0, 0, 0, 0, 1, 1]\n",
      "['http://dbpedia.org/resource/Selwyn_Lloyd', 'http://dbpedia.org/resource/Winston_Churchill']\n",
      "\n",
      "\n",
      "[['prime', 'minister']]\n",
      "[0, 0, 0, 0, 1, 1, 0, 0, 0]\n",
      "['http://dbpedia.org/ontology/primeMinister']\n"
     ]
    }
   ],
   "source": [
    "# show sample question\n",
    "i = 1\n",
    "question_o = qas[i]['question']\n",
    "print(question_o)\n",
    "print('\\n')\n",
    "print(e_spans[i])\n",
    "print(y_e[i])\n",
    "print(correct_entities_uris[i])\n",
    "print('\\n')\n",
    "print(p_spans[i])\n",
    "print(y_p[i])\n",
    "print(correct_predicates_uris[i])"
   ]
  },
  {
   "cell_type": "code",
   "execution_count": 9,
   "metadata": {},
   "outputs": [
    {
     "name": "stdout",
     "output_type": "stream",
     "text": [
      "Number of unique words 7113\n",
      "Maximum question length in the dataset: 25\n",
      "916 OOV words\n",
      "Model settings saved.\n"
     ]
    }
   ],
   "source": [
    "# load pre-trained embeddings for question words\n",
    "words = list(set([word for q in questions for word in q]))\n",
    "n_words = len(words)\n",
    "print(\"Number of unique words %d\"%len(words))\n",
    "word2idx = {w: i + 1 for i, w in enumerate(words)}\n",
    "\n",
    "# dataset parameters for training the model\n",
    "max_len = max(n_words_distr)\n",
    "print(\"Maximum question length in the dataset: %d\"%max_len)\n",
    "n_tags = 2\n",
    "\n",
    "# prepare data and pad the max length with 0s\n",
    "from keras.preprocessing.sequence import pad_sequences\n",
    "X = [[word2idx[w] for w in s] for s in questions]\n",
    "X = pad_sequences(maxlen=max_len, sequences=X, padding=\"post\", value=0)\n",
    "\n",
    "# load embeddings into matrix\n",
    "import math\n",
    "word_embedding_matrix = np.zeros((n_words+1, vectors.dim))\n",
    "\n",
    "n_oov = 0\n",
    "\n",
    "for w in word2idx:\n",
    "    # get the word vector from the embedding model\n",
    "    if w in vectors:\n",
    "        word_vector = vectors.query(w)\n",
    "    # OOV word\n",
    "    else:\n",
    "        n_oov += 1\n",
    "        word_vector = vectors.query('unk')\n",
    "    word_embedding_matrix[word2idx[w]] = word_vector\n",
    "\n",
    "# loaded vector # may be lower than total vocab due to w2v settings\n",
    "print('%d OOV words'%n_oov)\n",
    "\n",
    "model_settings = {'embeddings': word_embedding_matrix, 'word2idx': word2idx,\n",
    "                  'max_len': max_len, 'n_words': n_words, 'n_tags': n_tags, 'emb_dim': vectors.dim}\n",
    "\n",
    "# save model settings\n",
    "import pickle as pkl\n",
    "f = open('%s_%s.pkl'%(dataset_name, embeddings_choice), 'wb')\n",
    "pkl.dump(model_settings, f, -1)\n",
    "f.close()\n",
    "print(\"Model settings saved.\")"
   ]
  },
  {
   "cell_type": "code",
   "execution_count": 10,
   "metadata": {},
   "outputs": [
    {
     "name": "stderr",
     "output_type": "stream",
     "text": [
      "/home/zola/anaconda3/envs/tf36/lib/python3.6/site-packages/keras_contrib/layers/crf.py:314: UserWarning: CRF.loss_function is deprecated and it might be removed in the future. Please use losses.crf_loss instead.\n",
      "  warnings.warn('CRF.loss_function is deprecated and it might be removed in the future. Please '\n",
      "/home/zola/anaconda3/envs/tf36/lib/python3.6/site-packages/keras_contrib/layers/crf.py:320: UserWarning: CRF.accuracy is deprecated and it might be removed in the future. Please use metrics.crf_accuracy\n",
      "  warnings.warn('CRF.accuracy is deprecated and it might be removed in the future. Please '\n"
     ]
    },
    {
     "name": "stdout",
     "output_type": "stream",
     "text": [
      "_________________________________________________________________\n",
      "Layer (type)                 Output Shape              Param #   \n",
      "=================================================================\n",
      "input_1 (InputLayer)         (None, 25)                0         \n",
      "_________________________________________________________________\n",
      "embedding_1 (Embedding)      (None, 25, 100)           711400    \n",
      "_________________________________________________________________\n",
      "bidirectional_1 (Bidirection (None, 25, 100)           60400     \n",
      "_________________________________________________________________\n",
      "time_distributed_1 (TimeDist (None, 25, 50)            5050      \n",
      "_________________________________________________________________\n",
      "crf_1 (CRF)                  (None, 25, 2)             110       \n",
      "=================================================================\n",
      "Total params: 776,960\n",
      "Trainable params: 65,560\n",
      "Non-trainable params: 711,400\n",
      "_________________________________________________________________\n"
     ]
    }
   ],
   "source": [
    "# build biLSTM-CRF model for mention extraction\n",
    "from keras.models import Model, Input\n",
    "from keras.layers import LSTM, Embedding, Dense, TimeDistributed, Dropout, Bidirectional\n",
    "from keras_contrib.layers import CRF\n",
    "from keras.optimizers import Adam\n",
    "\n",
    "def build_model(model_settings):\n",
    "    # architecture\n",
    "    input = Input(shape=(model_settings['max_len'],))\n",
    "    model = Embedding(input_dim=model_settings['n_words']+1, output_dim=model_settings['emb_dim'],\n",
    "                      weights=[model_settings['embeddings']],\n",
    "                      input_length=model_settings['max_len'], mask_zero=True, trainable=False)(input)\n",
    "    model = Bidirectional(LSTM(units=50, return_sequences=True,\n",
    "                               recurrent_dropout=0.1))(model)  # variational biLSTM\n",
    "    model = TimeDistributed(Dense(50, activation=\"relu\"))(model)  # a dense layer as suggested by neuralNer\n",
    "    crf = CRF(model_settings['n_tags'])  # CRF layer\n",
    "    out = crf(model)  # output\n",
    "    model = Model(input, out)\n",
    "    model.compile(optimizer=Adam(lr=0.0001), loss=crf.loss_function, metrics=[crf.accuracy])\n",
    "    model.summary()\n",
    "    return model\n",
    "\n",
    "model = build_model(model_settings)"
   ]
  },
  {
   "cell_type": "markdown",
   "metadata": {},
   "source": [
    "## Entity mentions"
   ]
  },
  {
   "cell_type": "code",
   "execution_count": 73,
   "metadata": {},
   "outputs": [
    {
     "name": "stdout",
     "output_type": "stream",
     "text": [
      "Training on 4500 samples validating on 500 samples\n"
     ]
    }
   ],
   "source": [
    "# train entity mention span model\n",
    "y = y_e\n",
    "modelname = 'entity_model'\n",
    "\n",
    "# prepare data\n",
    "y = pad_sequences(maxlen=max_len, sequences=y, padding=\"post\", value=0)\n",
    "from keras.utils import to_categorical\n",
    "y = [to_categorical(i, num_classes=n_tags) for i in y]\n",
    "\n",
    "# split dataset into training and testing subsets\n",
    "from sklearn.model_selection import train_test_split\n",
    "X_train, X_test, y_train, y_test = train_test_split(X, y, test_size=0.1)\n",
    "print(\"Training on %d samples testing on %d samples\" % (len(X_train), len(X_test)))"
   ]
  },
  {
   "cell_type": "code",
   "execution_count": 74,
   "metadata": {},
   "outputs": [
    {
     "name": "stdout",
     "output_type": "stream",
     "text": [
      "Train on 4050 samples, validate on 450 samples\n",
      "Epoch 1/50\n",
      "4050/4050 [==============================] - 9s 2ms/step - loss: 1.5556 - crf_viterbi_accuracy: 0.7536 - val_loss: 1.5301 - val_crf_viterbi_accuracy: 0.7721\n",
      "Epoch 2/50\n",
      "4050/4050 [==============================] - 7s 2ms/step - loss: 1.4693 - crf_viterbi_accuracy: 0.7862 - val_loss: 1.4804 - val_crf_viterbi_accuracy: 0.8009\n",
      "Epoch 3/50\n",
      "4050/4050 [==============================] - 7s 2ms/step - loss: 1.4237 - crf_viterbi_accuracy: 0.8129 - val_loss: 1.4297 - val_crf_viterbi_accuracy: 0.8254\n",
      "Epoch 4/50\n",
      "4050/4050 [==============================] - 7s 2ms/step - loss: 1.3732 - crf_viterbi_accuracy: 0.8395 - val_loss: 1.3802 - val_crf_viterbi_accuracy: 0.8491\n",
      "Epoch 5/50\n",
      "4050/4050 [==============================] - 7s 2ms/step - loss: 1.3353 - crf_viterbi_accuracy: 0.8609 - val_loss: 1.3507 - val_crf_viterbi_accuracy: 0.8659\n",
      "\n",
      "Epoch 00005: val_loss improved from inf to 1.35068, saving model to checkpoints/_entity_model05-0.87.h5\n",
      "Epoch 6/50\n",
      "4050/4050 [==============================] - 7s 2ms/step - loss: 1.3145 - crf_viterbi_accuracy: 0.8735 - val_loss: 1.3347 - val_crf_viterbi_accuracy: 0.8755\n",
      "Epoch 7/50\n",
      "4050/4050 [==============================] - 7s 2ms/step - loss: 1.3012 - crf_viterbi_accuracy: 0.8810 - val_loss: 1.3237 - val_crf_viterbi_accuracy: 0.8811\n",
      "Epoch 8/50\n",
      "4050/4050 [==============================] - 7s 2ms/step - loss: 1.2907 - crf_viterbi_accuracy: 0.8850 - val_loss: 1.3156 - val_crf_viterbi_accuracy: 0.8857\n",
      "Epoch 9/50\n",
      "4050/4050 [==============================] - 7s 2ms/step - loss: 1.2830 - crf_viterbi_accuracy: 0.8882 - val_loss: 1.3087 - val_crf_viterbi_accuracy: 0.8880\n",
      "Epoch 10/50\n",
      "4050/4050 [==============================] - 7s 2ms/step - loss: 1.2763 - crf_viterbi_accuracy: 0.8911 - val_loss: 1.3039 - val_crf_viterbi_accuracy: 0.8897\n",
      "\n",
      "Epoch 00010: val_loss improved from 1.35068 to 1.30390, saving model to checkpoints/_entity_model10-0.89.h5\n",
      "Epoch 11/50\n",
      "4050/4050 [==============================] - 7s 2ms/step - loss: 1.2697 - crf_viterbi_accuracy: 0.8946 - val_loss: 1.2991 - val_crf_viterbi_accuracy: 0.8918\n",
      "Epoch 12/50\n",
      "4050/4050 [==============================] - 7s 2ms/step - loss: 1.2655 - crf_viterbi_accuracy: 0.8967 - val_loss: 1.2961 - val_crf_viterbi_accuracy: 0.8933\n",
      "Epoch 13/50\n",
      "4050/4050 [==============================] - 7s 2ms/step - loss: 1.2622 - crf_viterbi_accuracy: 0.8966 - val_loss: 1.2933 - val_crf_viterbi_accuracy: 0.8971\n",
      "Epoch 14/50\n",
      "4050/4050 [==============================] - 7s 2ms/step - loss: 1.2588 - crf_viterbi_accuracy: 0.8994 - val_loss: 1.2910 - val_crf_viterbi_accuracy: 0.8987\n",
      "Epoch 15/50\n",
      "4050/4050 [==============================] - 7s 2ms/step - loss: 1.2551 - crf_viterbi_accuracy: 0.9016 - val_loss: 1.2883 - val_crf_viterbi_accuracy: 0.8971\n",
      "\n",
      "Epoch 00015: val_loss improved from 1.30390 to 1.28829, saving model to checkpoints/_entity_model15-0.90.h5\n",
      "Epoch 16/50\n",
      "4050/4050 [==============================] - 7s 2ms/step - loss: 1.2530 - crf_viterbi_accuracy: 0.9027 - val_loss: 1.2861 - val_crf_viterbi_accuracy: 0.9008\n",
      "Epoch 17/50\n",
      "4050/4050 [==============================] - 7s 2ms/step - loss: 1.2498 - crf_viterbi_accuracy: 0.9033 - val_loss: 1.2845 - val_crf_viterbi_accuracy: 0.9012\n",
      "Epoch 18/50\n",
      "4050/4050 [==============================] - 7s 2ms/step - loss: 1.2473 - crf_viterbi_accuracy: 0.9047 - val_loss: 1.2829 - val_crf_viterbi_accuracy: 0.9042\n",
      "Epoch 19/50\n",
      "4050/4050 [==============================] - 7s 2ms/step - loss: 1.2452 - crf_viterbi_accuracy: 0.9053 - val_loss: 1.2812 - val_crf_viterbi_accuracy: 0.9039\n",
      "Epoch 20/50\n",
      "4050/4050 [==============================] - 7s 2ms/step - loss: 1.2431 - crf_viterbi_accuracy: 0.9074 - val_loss: 1.2799 - val_crf_viterbi_accuracy: 0.9057\n",
      "\n",
      "Epoch 00020: val_loss improved from 1.28829 to 1.27990, saving model to checkpoints/_entity_model20-0.91.h5\n",
      "Epoch 21/50\n",
      "4050/4050 [==============================] - 7s 2ms/step - loss: 1.2406 - crf_viterbi_accuracy: 0.9080 - val_loss: 1.2784 - val_crf_viterbi_accuracy: 0.9065\n",
      "Epoch 22/50\n",
      "4050/4050 [==============================] - 7s 2ms/step - loss: 1.2406 - crf_viterbi_accuracy: 0.9080 - val_loss: 1.2781 - val_crf_viterbi_accuracy: 0.9032\n",
      "Epoch 23/50\n",
      "4050/4050 [==============================] - 7s 2ms/step - loss: 1.2386 - crf_viterbi_accuracy: 0.9084 - val_loss: 1.2756 - val_crf_viterbi_accuracy: 0.9062\n",
      "Epoch 24/50\n",
      "4050/4050 [==============================] - 7s 2ms/step - loss: 1.2376 - crf_viterbi_accuracy: 0.9085 - val_loss: 1.2748 - val_crf_viterbi_accuracy: 0.9062\n",
      "Epoch 25/50\n",
      "4050/4050 [==============================] - 7s 2ms/step - loss: 1.2357 - crf_viterbi_accuracy: 0.9094 - val_loss: 1.2736 - val_crf_viterbi_accuracy: 0.9067\n",
      "\n",
      "Epoch 00025: val_loss improved from 1.27990 to 1.27364, saving model to checkpoints/_entity_model25-0.91.h5\n",
      "Epoch 26/50\n",
      "4050/4050 [==============================] - 7s 2ms/step - loss: 1.2343 - crf_viterbi_accuracy: 0.9101 - val_loss: 1.2724 - val_crf_viterbi_accuracy: 0.9072\n",
      "Epoch 27/50\n",
      "4050/4050 [==============================] - 7s 2ms/step - loss: 1.2331 - crf_viterbi_accuracy: 0.9108 - val_loss: 1.2714 - val_crf_viterbi_accuracy: 0.9080\n",
      "Epoch 28/50\n",
      "4050/4050 [==============================] - 7s 2ms/step - loss: 1.2322 - crf_viterbi_accuracy: 0.9111 - val_loss: 1.2704 - val_crf_viterbi_accuracy: 0.9090\n",
      "Epoch 29/50\n",
      "4050/4050 [==============================] - 7s 2ms/step - loss: 1.2301 - crf_viterbi_accuracy: 0.9123 - val_loss: 1.2696 - val_crf_viterbi_accuracy: 0.9077\n",
      "Epoch 30/50\n",
      "4050/4050 [==============================] - 7s 2ms/step - loss: 1.2290 - crf_viterbi_accuracy: 0.9124 - val_loss: 1.2685 - val_crf_viterbi_accuracy: 0.9097\n",
      "\n",
      "Epoch 00030: val_loss improved from 1.27364 to 1.26853, saving model to checkpoints/_entity_model30-0.91.h5\n",
      "Epoch 31/50\n",
      "4050/4050 [==============================] - 7s 2ms/step - loss: 1.2281 - crf_viterbi_accuracy: 0.9121 - val_loss: 1.2685 - val_crf_viterbi_accuracy: 0.9113\n",
      "Epoch 32/50\n",
      "4050/4050 [==============================] - 7s 2ms/step - loss: 1.2273 - crf_viterbi_accuracy: 0.9121 - val_loss: 1.2674 - val_crf_viterbi_accuracy: 0.9094\n",
      "Epoch 33/50\n",
      "4050/4050 [==============================] - 7s 2ms/step - loss: 1.2262 - crf_viterbi_accuracy: 0.9135 - val_loss: 1.2669 - val_crf_viterbi_accuracy: 0.9115\n",
      "Epoch 34/50\n",
      "4050/4050 [==============================] - 7s 2ms/step - loss: 1.2244 - crf_viterbi_accuracy: 0.9142 - val_loss: 1.2665 - val_crf_viterbi_accuracy: 0.9103\n",
      "Epoch 35/50\n",
      "4050/4050 [==============================] - 7s 2ms/step - loss: 1.2239 - crf_viterbi_accuracy: 0.9143 - val_loss: 1.2662 - val_crf_viterbi_accuracy: 0.9114\n",
      "\n",
      "Epoch 00035: val_loss improved from 1.26853 to 1.26623, saving model to checkpoints/_entity_model35-0.91.h5\n",
      "Epoch 36/50\n",
      "4050/4050 [==============================] - 7s 2ms/step - loss: 1.2234 - crf_viterbi_accuracy: 0.9146 - val_loss: 1.2656 - val_crf_viterbi_accuracy: 0.9099\n",
      "Epoch 37/50\n",
      "4050/4050 [==============================] - 7s 2ms/step - loss: 1.2227 - crf_viterbi_accuracy: 0.9141 - val_loss: 1.2631 - val_crf_viterbi_accuracy: 0.9114\n",
      "Epoch 38/50\n",
      "4050/4050 [==============================] - 7s 2ms/step - loss: 1.2213 - crf_viterbi_accuracy: 0.9150 - val_loss: 1.2622 - val_crf_viterbi_accuracy: 0.9124\n",
      "Epoch 39/50\n",
      "4050/4050 [==============================] - 7s 2ms/step - loss: 1.2212 - crf_viterbi_accuracy: 0.9152 - val_loss: 1.2615 - val_crf_viterbi_accuracy: 0.9139\n",
      "Epoch 40/50\n",
      "4050/4050 [==============================] - 7s 2ms/step - loss: 1.2193 - crf_viterbi_accuracy: 0.9165 - val_loss: 1.2612 - val_crf_viterbi_accuracy: 0.9127\n",
      "\n",
      "Epoch 00040: val_loss improved from 1.26623 to 1.26118, saving model to checkpoints/_entity_model40-0.91.h5\n",
      "Epoch 41/50\n",
      "4050/4050 [==============================] - 7s 2ms/step - loss: 1.2188 - crf_viterbi_accuracy: 0.9167 - val_loss: 1.2602 - val_crf_viterbi_accuracy: 0.9124\n",
      "Epoch 42/50\n",
      "4050/4050 [==============================] - 7s 2ms/step - loss: 1.2173 - crf_viterbi_accuracy: 0.9172 - val_loss: 1.2611 - val_crf_viterbi_accuracy: 0.9122\n",
      "Epoch 43/50\n",
      "4050/4050 [==============================] - 7s 2ms/step - loss: 1.2175 - crf_viterbi_accuracy: 0.9158 - val_loss: 1.2587 - val_crf_viterbi_accuracy: 0.9142\n",
      "Epoch 44/50\n",
      "4050/4050 [==============================] - 7s 2ms/step - loss: 1.2163 - crf_viterbi_accuracy: 0.9177 - val_loss: 1.2583 - val_crf_viterbi_accuracy: 0.9139\n",
      "Epoch 45/50\n",
      "4050/4050 [==============================] - 7s 2ms/step - loss: 1.2161 - crf_viterbi_accuracy: 0.9176 - val_loss: 1.2577 - val_crf_viterbi_accuracy: 0.9142\n",
      "\n",
      "Epoch 00045: val_loss improved from 1.26118 to 1.25775, saving model to checkpoints/_entity_model45-0.91.h5\n",
      "Epoch 46/50\n",
      "4050/4050 [==============================] - 7s 2ms/step - loss: 1.2148 - crf_viterbi_accuracy: 0.9183 - val_loss: 1.2570 - val_crf_viterbi_accuracy: 0.9142\n",
      "Epoch 47/50\n",
      "4050/4050 [==============================] - 7s 2ms/step - loss: 1.2138 - crf_viterbi_accuracy: 0.9190 - val_loss: 1.2571 - val_crf_viterbi_accuracy: 0.9133\n",
      "Epoch 48/50\n",
      "4050/4050 [==============================] - 7s 2ms/step - loss: 1.2141 - crf_viterbi_accuracy: 0.9195 - val_loss: 1.2561 - val_crf_viterbi_accuracy: 0.9143\n",
      "Epoch 49/50\n",
      "4050/4050 [==============================] - 7s 2ms/step - loss: 1.2126 - crf_viterbi_accuracy: 0.9190 - val_loss: 1.2556 - val_crf_viterbi_accuracy: 0.9147\n",
      "Epoch 50/50\n",
      "4050/4050 [==============================] - 7s 2ms/step - loss: 1.2121 - crf_viterbi_accuracy: 0.9197 - val_loss: 1.2546 - val_crf_viterbi_accuracy: 0.9152\n",
      "\n",
      "Epoch 00050: val_loss improved from 1.25775 to 1.25456, saving model to checkpoints/_entity_model50-0.92.h5\n"
     ]
    }
   ],
   "source": [
    "# callbacks\n",
    "from keras.callbacks import ReduceLROnPlateau, EarlyStopping, TerminateOnNaN, ModelCheckpoint\n",
    "cb_redlr = ReduceLROnPlateau(monitor='val_crf_viterbi_accuracy', factor=0.5, patience=3, min_lr=0.0001, verbose=1)\n",
    "cb_early = EarlyStopping(monitor='val_crf_viterbi_accuracy', min_delta=0, patience=5, verbose=1)\n",
    "cb_chkpt = ModelCheckpoint('checkpoints/_'+modelname+'{epoch:02d}-{val_crf_viterbi_accuracy:.2f}.h5', verbose=1, save_best_only=True, save_weights_only=True, period=5)\n",
    "\n",
    "callbacks_list=[cb_redlr, cb_early, cb_chkpt]\n",
    "\n",
    "# start training\n",
    "log = model.fit(X_train, np.array(y_train), batch_size=32, epochs=50,\n",
    "                callbacks=callbacks_list,\n",
    "                validation_split=0.1, verbose=1)"
   ]
  },
  {
   "cell_type": "code",
   "execution_count": 75,
   "metadata": {},
   "outputs": [
    {
     "data": {
      "image/png": "[encoded data removed]",
      "text/plain": [
       "<Figure size 864x864 with 1 Axes>"
      ]
     },
     "metadata": {},
     "output_type": "display_data"
    }
   ],
   "source": [
    "# plot accuracies\n",
    "import pandas as pd\n",
    "hist = pd.DataFrame(log.history)\n",
    "# print(hist)\n",
    "%matplotlib inline\n",
    "import matplotlib.pyplot as plt\n",
    "plt.style.use(\"ggplot\")\n",
    "plt.figure(figsize=(12,12))\n",
    "plt.plot(hist[\"crf_viterbi_accuracy\"], label='Training accuracy')\n",
    "plt.plot(hist[\"val_crf_viterbi_accuracy\"], label='Validation accuracy')\n",
    "plt.legend()\n",
    "plt.show()"
   ]
  },
  {
   "cell_type": "code",
   "execution_count": 77,
   "metadata": {},
   "outputs": [
    {
     "name": "stdout",
     "output_type": "stream",
     "text": [
      "500/500 [==============================] - 1s 2ms/step\n",
      "F1-score: 68.5%\n"
     ]
    }
   ],
   "source": [
    "# save model\n",
    "from keras_contrib.utils import save_load_utils\n",
    "with open('model/' + modelname + '.json', 'w') as f:\n",
    "    f.write(model.to_json())\n",
    "# save weights\n",
    "save_load_utils.save_all_weights(model, 'model/'+modelname+'.h5')\n",
    "\n",
    "# load weights\n",
    "model.load_weights('model/'+modelname+'.h5')\n",
    "\n",
    "# evaluate model on the test set\n",
    "test_pred = model.predict(X_test, verbose=1)\n",
    "\n",
    "idx2tag = {1: 'I', 0: 'O'}\n",
    "pred_labels = [[idx2tag[np.argmax(p)] for p in pred_i] for pred_i in test_pred]\n",
    "test_labels = [[idx2tag[np.argmax(p)] for p in pred_i] for pred_i in y_test]\n",
    "\n",
    "from seqeval.metrics import precision_score, recall_score, f1_score, classification_report\n",
    "print(\"F1-score: {:.1%}\".format(f1_score(test_labels, pred_labels, average='weighted')))"
   ]
  },
  {
   "cell_type": "code",
   "execution_count": 78,
   "metadata": {},
   "outputs": [
    {
     "name": "stdout",
     "output_type": "stream",
     "text": [
      "Word           ||True ||Pred\n",
      "==============================\n",
      "what           :     0 0\n",
      "are            :     0 0\n",
      "some           :     0 0\n",
      "musical        :     0 0\n",
      "artists        :     0 0\n",
      "associated     :     0 0\n",
      "with           :     0 0\n",
      "the            :     0 0\n",
      "ones           :     0 0\n",
      "signed         :     0 0\n",
      "up             :     0 0\n",
      "with           :     0 0\n",
      "emi            :     1 1\n"
     ]
    }
   ],
   "source": [
    "# show sample test prediction\n",
    "# i = 1\n",
    "p = model.predict(np.array([X_test[i]]))\n",
    "p = np.argmax(p, axis=-1)\n",
    "true = np.argmax(y_test[i], -1)\n",
    "print(\"{:15}||{:5}||{}\".format(\"Word\", \"True\", \"Pred\"))\n",
    "print(30 * \"=\")\n",
    "for w, t, pred in zip(X_test[i], true, p[0]):\n",
    "    if w != 0:\n",
    "        print(\"{:15}: {:5} {}\".format(words[w-1], t, pred))"
   ]
  },
  {
   "cell_type": "markdown",
   "metadata": {},
   "source": [
    "## Predicate mentions"
   ]
  },
  {
   "cell_type": "code",
   "execution_count": 11,
   "metadata": {},
   "outputs": [
    {
     "name": "stdout",
     "output_type": "stream",
     "text": [
      "Training on 4500 samples validating on 500 samples\n"
     ]
    }
   ],
   "source": [
    "# train entity mention span model\n",
    "y = y_p\n",
    "modelname = 'predicate_model'\n",
    "\n",
    "# prepare data\n",
    "y = pad_sequences(maxlen=max_len, sequences=y, padding=\"post\", value=0)\n",
    "from keras.utils import to_categorical\n",
    "y = [to_categorical(i, num_classes=n_tags) for i in y]\n",
    "\n",
    "# split dataset into training and testing subsets\n",
    "from sklearn.model_selection import train_test_split\n",
    "X_train, X_test, y_train, y_test = train_test_split(X, y, test_size=0.1)\n",
    "print(\"Training on %d samples testing on %d samples\" % (len(X_train), len(X_test)))"
   ]
  },
  {
   "cell_type": "code",
   "execution_count": 12,
   "metadata": {},
   "outputs": [
    {
     "name": "stdout",
     "output_type": "stream",
     "text": [
      "Train on 4050 samples, validate on 450 samples\n",
      "Epoch 1/50\n",
      "4050/4050 [==============================] - 9s 2ms/step - loss: 1.5417 - crf_viterbi_accuracy: 0.8139 - val_loss: 1.5699 - val_crf_viterbi_accuracy: 0.8143\n",
      "Epoch 2/50\n",
      "4050/4050 [==============================] - 7s 2ms/step - loss: 1.5236 - crf_viterbi_accuracy: 0.8139 - val_loss: 1.5464 - val_crf_viterbi_accuracy: 0.8143\n",
      "Epoch 3/50\n",
      "4050/4050 [==============================] - 7s 2ms/step - loss: 1.4941 - crf_viterbi_accuracy: 0.8139 - val_loss: 1.5088 - val_crf_viterbi_accuracy: 0.8145\n",
      "Epoch 4/50\n",
      "4050/4050 [==============================] - 7s 2ms/step - loss: 1.4597 - crf_viterbi_accuracy: 0.8157 - val_loss: 1.4696 - val_crf_viterbi_accuracy: 0.8218\n",
      "Epoch 5/50\n",
      "4050/4050 [==============================] - 7s 2ms/step - loss: 1.4222 - crf_viterbi_accuracy: 0.8282 - val_loss: 1.4331 - val_crf_viterbi_accuracy: 0.8373\n",
      "\n",
      "Epoch 00005: val_loss improved from inf to 1.43314, saving model to checkpoints/_predicate_model05-0.84.h5\n",
      "Epoch 6/50\n",
      "4050/4050 [==============================] - 7s 2ms/step - loss: 1.3924 - crf_viterbi_accuracy: 0.8431 - val_loss: 1.4088 - val_crf_viterbi_accuracy: 0.8506\n",
      "Epoch 7/50\n",
      "4050/4050 [==============================] - 7s 2ms/step - loss: 1.3751 - crf_viterbi_accuracy: 0.8518 - val_loss: 1.3961 - val_crf_viterbi_accuracy: 0.8594\n",
      "Epoch 8/50\n",
      "4050/4050 [==============================] - 7s 2ms/step - loss: 1.3653 - crf_viterbi_accuracy: 0.8578 - val_loss: 1.3883 - val_crf_viterbi_accuracy: 0.8636\n",
      "Epoch 9/50\n",
      "4050/4050 [==============================] - 7s 2ms/step - loss: 1.3596 - crf_viterbi_accuracy: 0.8608 - val_loss: 1.3833 - val_crf_viterbi_accuracy: 0.8647\n",
      "Epoch 10/50\n",
      "4050/4050 [==============================] - 7s 2ms/step - loss: 1.3547 - crf_viterbi_accuracy: 0.8640 - val_loss: 1.3809 - val_crf_viterbi_accuracy: 0.8656\n",
      "\n",
      "Epoch 00010: val_loss improved from 1.43314 to 1.38087, saving model to checkpoints/_predicate_model10-0.87.h5\n",
      "Epoch 11/50\n",
      "4050/4050 [==============================] - 7s 2ms/step - loss: 1.3508 - crf_viterbi_accuracy: 0.8672 - val_loss: 1.3765 - val_crf_viterbi_accuracy: 0.8691\n",
      "Epoch 12/50\n",
      "4050/4050 [==============================] - 7s 2ms/step - loss: 1.3477 - crf_viterbi_accuracy: 0.8690 - val_loss: 1.3747 - val_crf_viterbi_accuracy: 0.8711\n",
      "Epoch 13/50\n",
      "4050/4050 [==============================] - 7s 2ms/step - loss: 1.3453 - crf_viterbi_accuracy: 0.8705 - val_loss: 1.3717 - val_crf_viterbi_accuracy: 0.8708\n",
      "Epoch 14/50\n",
      "4050/4050 [==============================] - 7s 2ms/step - loss: 1.3425 - crf_viterbi_accuracy: 0.8714 - val_loss: 1.3698 - val_crf_viterbi_accuracy: 0.8724\n",
      "Epoch 15/50\n",
      "4050/4050 [==============================] - 7s 2ms/step - loss: 1.3406 - crf_viterbi_accuracy: 0.8726 - val_loss: 1.3681 - val_crf_viterbi_accuracy: 0.8736\n",
      "\n",
      "Epoch 00015: val_loss improved from 1.38087 to 1.36807, saving model to checkpoints/_predicate_model15-0.87.h5\n",
      "Epoch 16/50\n",
      "4050/4050 [==============================] - 7s 2ms/step - loss: 1.3387 - crf_viterbi_accuracy: 0.8733 - val_loss: 1.3664 - val_crf_viterbi_accuracy: 0.8730\n",
      "Epoch 17/50\n",
      "4050/4050 [==============================] - 7s 2ms/step - loss: 1.3368 - crf_viterbi_accuracy: 0.8744 - val_loss: 1.3656 - val_crf_viterbi_accuracy: 0.8747\n",
      "Epoch 18/50\n",
      "4050/4050 [==============================] - 7s 2ms/step - loss: 1.3357 - crf_viterbi_accuracy: 0.8757 - val_loss: 1.3642 - val_crf_viterbi_accuracy: 0.8750\n",
      "Epoch 19/50\n",
      "4050/4050 [==============================] - 7s 2ms/step - loss: 1.3333 - crf_viterbi_accuracy: 0.8756 - val_loss: 1.3633 - val_crf_viterbi_accuracy: 0.8752\n",
      "Epoch 20/50\n",
      "4050/4050 [==============================] - 7s 2ms/step - loss: 1.3316 - crf_viterbi_accuracy: 0.8771 - val_loss: 1.3616 - val_crf_viterbi_accuracy: 0.8763\n",
      "\n",
      "Epoch 00020: val_loss improved from 1.36807 to 1.36157, saving model to checkpoints/_predicate_model20-0.88.h5\n",
      "Epoch 21/50\n",
      "4050/4050 [==============================] - 7s 2ms/step - loss: 1.3309 - crf_viterbi_accuracy: 0.8768 - val_loss: 1.3605 - val_crf_viterbi_accuracy: 0.8763\n",
      "Epoch 22/50\n",
      "4050/4050 [==============================] - 7s 2ms/step - loss: 1.3293 - crf_viterbi_accuracy: 0.8782 - val_loss: 1.3599 - val_crf_viterbi_accuracy: 0.8751\n",
      "Epoch 23/50\n",
      "4050/4050 [==============================] - 7s 2ms/step - loss: 1.3281 - crf_viterbi_accuracy: 0.8793 - val_loss: 1.3589 - val_crf_viterbi_accuracy: 0.8772\n",
      "Epoch 24/50\n",
      "4050/4050 [==============================] - 7s 2ms/step - loss: 1.3273 - crf_viterbi_accuracy: 0.8805 - val_loss: 1.3578 - val_crf_viterbi_accuracy: 0.8777\n",
      "Epoch 25/50\n",
      "4050/4050 [==============================] - 7s 2ms/step - loss: 1.3253 - crf_viterbi_accuracy: 0.8808 - val_loss: 1.3569 - val_crf_viterbi_accuracy: 0.8782\n",
      "\n",
      "Epoch 00025: val_loss improved from 1.36157 to 1.35695, saving model to checkpoints/_predicate_model25-0.88.h5\n",
      "Epoch 26/50\n",
      "4050/4050 [==============================] - 7s 2ms/step - loss: 1.3247 - crf_viterbi_accuracy: 0.8816 - val_loss: 1.3565 - val_crf_viterbi_accuracy: 0.8788\n",
      "Epoch 27/50\n",
      "4050/4050 [==============================] - 7s 2ms/step - loss: 1.3241 - crf_viterbi_accuracy: 0.8814 - val_loss: 1.3564 - val_crf_viterbi_accuracy: 0.8774\n",
      "Epoch 28/50\n",
      "4050/4050 [==============================] - 7s 2ms/step - loss: 1.3229 - crf_viterbi_accuracy: 0.8815 - val_loss: 1.3551 - val_crf_viterbi_accuracy: 0.8792\n",
      "Epoch 29/50\n",
      "4050/4050 [==============================] - 7s 2ms/step - loss: 1.3201 - crf_viterbi_accuracy: 0.8830 - val_loss: 1.3539 - val_crf_viterbi_accuracy: 0.8808\n",
      "Epoch 30/50\n",
      "4050/4050 [==============================] - 7s 2ms/step - loss: 1.3201 - crf_viterbi_accuracy: 0.8835 - val_loss: 1.3533 - val_crf_viterbi_accuracy: 0.8801\n",
      "\n",
      "Epoch 00030: val_loss improved from 1.35695 to 1.35328, saving model to checkpoints/_predicate_model30-0.88.h5\n",
      "Epoch 31/50\n",
      "4050/4050 [==============================] - 7s 2ms/step - loss: 1.3197 - crf_viterbi_accuracy: 0.8840 - val_loss: 1.3525 - val_crf_viterbi_accuracy: 0.8797\n",
      "Epoch 32/50\n",
      "4050/4050 [==============================] - 7s 2ms/step - loss: 1.3176 - crf_viterbi_accuracy: 0.8842 - val_loss: 1.3528 - val_crf_viterbi_accuracy: 0.8807\n",
      "Epoch 33/50\n",
      "4050/4050 [==============================] - 7s 2ms/step - loss: 1.3172 - crf_viterbi_accuracy: 0.8856 - val_loss: 1.3518 - val_crf_viterbi_accuracy: 0.8808\n",
      "Epoch 34/50\n",
      "4050/4050 [==============================] - 7s 2ms/step - loss: 1.3164 - crf_viterbi_accuracy: 0.8855 - val_loss: 1.3508 - val_crf_viterbi_accuracy: 0.8825\n",
      "Epoch 35/50\n",
      "4050/4050 [==============================] - 7s 2ms/step - loss: 1.3156 - crf_viterbi_accuracy: 0.8853 - val_loss: 1.3502 - val_crf_viterbi_accuracy: 0.8820\n",
      "\n",
      "Epoch 00035: val_loss improved from 1.35328 to 1.35022, saving model to checkpoints/_predicate_model35-0.88.h5\n",
      "Epoch 36/50\n",
      "4050/4050 [==============================] - 7s 2ms/step - loss: 1.3144 - crf_viterbi_accuracy: 0.8863 - val_loss: 1.3498 - val_crf_viterbi_accuracy: 0.8824\n",
      "Epoch 37/50\n",
      "4050/4050 [==============================] - 7s 2ms/step - loss: 1.3136 - crf_viterbi_accuracy: 0.8870 - val_loss: 1.3492 - val_crf_viterbi_accuracy: 0.8826\n",
      "Epoch 38/50\n",
      "4050/4050 [==============================] - 7s 2ms/step - loss: 1.3127 - crf_viterbi_accuracy: 0.8873 - val_loss: 1.3484 - val_crf_viterbi_accuracy: 0.8839\n",
      "Epoch 39/50\n",
      "4050/4050 [==============================] - 7s 2ms/step - loss: 1.3123 - crf_viterbi_accuracy: 0.8874 - val_loss: 1.3480 - val_crf_viterbi_accuracy: 0.8830\n",
      "Epoch 40/50\n",
      "4050/4050 [==============================] - 7s 2ms/step - loss: 1.3105 - crf_viterbi_accuracy: 0.8882 - val_loss: 1.3478 - val_crf_viterbi_accuracy: 0.8847\n",
      "\n",
      "Epoch 00040: val_loss improved from 1.35022 to 1.34777, saving model to checkpoints/_predicate_model40-0.88.h5\n",
      "Epoch 41/50\n",
      "4050/4050 [==============================] - 7s 2ms/step - loss: 1.3102 - crf_viterbi_accuracy: 0.8871 - val_loss: 1.3472 - val_crf_viterbi_accuracy: 0.8826\n",
      "Epoch 42/50\n",
      "4050/4050 [==============================] - 7s 2ms/step - loss: 1.3092 - crf_viterbi_accuracy: 0.8887 - val_loss: 1.3464 - val_crf_viterbi_accuracy: 0.8846\n",
      "Epoch 43/50\n",
      "4050/4050 [==============================] - 7s 2ms/step - loss: 1.3089 - crf_viterbi_accuracy: 0.8890 - val_loss: 1.3458 - val_crf_viterbi_accuracy: 0.8836\n"
     ]
    },
    {
     "name": "stdout",
     "output_type": "stream",
     "text": [
      "Epoch 44/50\n",
      "4050/4050 [==============================] - 7s 2ms/step - loss: 1.3084 - crf_viterbi_accuracy: 0.8884 - val_loss: 1.3455 - val_crf_viterbi_accuracy: 0.8837\n",
      "Epoch 45/50\n",
      "4050/4050 [==============================] - 7s 2ms/step - loss: 1.3079 - crf_viterbi_accuracy: 0.8895 - val_loss: 1.3458 - val_crf_viterbi_accuracy: 0.8846\n",
      "\n",
      "Epoch 00045: val_loss improved from 1.34777 to 1.34581, saving model to checkpoints/_predicate_model45-0.88.h5\n",
      "Epoch 00045: early stopping\n"
     ]
    }
   ],
   "source": [
    "# callbacks\n",
    "from keras.callbacks import ReduceLROnPlateau, EarlyStopping, TerminateOnNaN, ModelCheckpoint\n",
    "cb_redlr = ReduceLROnPlateau(monitor='val_crf_viterbi_accuracy', factor=0.5, patience=3, min_lr=0.0001, verbose=1)\n",
    "cb_early = EarlyStopping(monitor='val_crf_viterbi_accuracy', min_delta=0, patience=5, verbose=1)\n",
    "cb_chkpt = ModelCheckpoint('checkpoints/_'+modelname+'{epoch:02d}-{val_crf_viterbi_accuracy:.2f}.h5', verbose=1, save_best_only=True, save_weights_only=True, period=5)\n",
    "\n",
    "callbacks_list=[cb_redlr, cb_early, cb_chkpt]\n",
    "\n",
    "# start training\n",
    "log = model.fit(X_train, np.array(y_train), batch_size=32, epochs=50,\n",
    "                callbacks=callbacks_list,\n",
    "                validation_split=0.1, verbose=1)"
   ]
  },
  {
   "cell_type": "code",
   "execution_count": 13,
   "metadata": {},
   "outputs": [
    {
     "data": {
      "image/png": "[encoded data removed]",
      "text/plain": [
       "<Figure size 864x864 with 1 Axes>"
      ]
     },
     "metadata": {},
     "output_type": "display_data"
    }
   ],
   "source": [
    "# plot accuracies\n",
    "import pandas as pd\n",
    "hist = pd.DataFrame(log.history)\n",
    "# print(hist)\n",
    "%matplotlib inline\n",
    "import matplotlib.pyplot as plt\n",
    "plt.style.use(\"ggplot\")\n",
    "plt.figure(figsize=(12,12))\n",
    "plt.plot(hist[\"crf_viterbi_accuracy\"], label='Training accuracy')\n",
    "plt.plot(hist[\"val_crf_viterbi_accuracy\"], label='Validation accuracy')\n",
    "plt.legend()\n",
    "plt.show()"
   ]
  },
  {
   "cell_type": "code",
   "execution_count": 14,
   "metadata": {},
   "outputs": [
    {
     "name": "stdout",
     "output_type": "stream",
     "text": [
      "500/500 [==============================] - 1s 1ms/step\n",
      "F1-score: 47.5%\n"
     ]
    }
   ],
   "source": [
    "# save model\n",
    "from keras_contrib.utils import save_load_utils\n",
    "with open('model/' + modelname + '.json', 'w') as f:\n",
    "    f.write(model.to_json())\n",
    "# save weights\n",
    "save_load_utils.save_all_weights(model, 'model/'+modelname+'.h5')\n",
    "\n",
    "# load weights\n",
    "model.load_weights('model/'+modelname+'.h5')\n",
    "\n",
    "# evaluate model on the test set\n",
    "test_pred = model.predict(X_test, verbose=1)\n",
    "\n",
    "idx2tag = {1: 'I', 0: 'O'}\n",
    "pred_labels = [[idx2tag[np.argmax(p)] for p in pred_i] for pred_i in test_pred]\n",
    "test_labels = [[idx2tag[np.argmax(p)] for p in pred_i] for pred_i in y_test]\n",
    "\n",
    "from seqeval.metrics import precision_score, recall_score, f1_score, classification_report\n",
    "print(\"F1-score: {:.1%}\".format(f1_score(test_labels, pred_labels, average='weighted')))"
   ]
  },
  {
   "cell_type": "code",
   "execution_count": 16,
   "metadata": {},
   "outputs": [
    {
     "name": "stdout",
     "output_type": "stream",
     "text": [
      "Word           ||True ||Pred\n",
      "==============================\n",
      "what           :     0 0\n",
      "are            :     0 0\n",
      "some           :     0 0\n",
      "musical        :     1 1\n",
      "artists        :     0 1\n",
      "associated     :     1 1\n",
      "with           :     0 0\n",
      "the            :     0 0\n",
      "ones           :     0 0\n",
      "signed         :     0 0\n",
      "up             :     0 0\n",
      "with           :     0 0\n",
      "emi            :     0 0\n"
     ]
    }
   ],
   "source": [
    "# show sample test prediction\n",
    "i = 1\n",
    "p = model.predict(np.array([X_test[i]]))\n",
    "p = np.argmax(p, axis=-1)\n",
    "true = np.argmax(y_test[i], -1)\n",
    "print(\"{:15}||{:5}||{}\".format(\"Word\", \"True\", \"Pred\"))\n",
    "print(30 * \"=\")\n",
    "for w, t, pred in zip(X_test[i], true, p[0]):\n",
    "    if w != 0:\n",
    "        print(\"{:15}: {:5} {}\".format(words[w-1], t, pred))"
   ]
  },
  {
   "cell_type": "code",
   "execution_count": null,
   "metadata": {},
   "outputs": [],
   "source": []
  }
 ],
 "metadata": {
  "kernelspec": {
   "display_name": "tf36",
   "language": "python",
   "name": "tf36"
  },
  "language_info": {
   "codemirror_mode": {
    "name": "ipython",
    "version": 3
   },
   "file_extension": ".py",
   "mimetype": "text/x-python",
   "name": "python",
   "nbconvert_exporter": "python",
   "pygments_lexer": "ipython3",
   "version": "3.6.7"
  }
 },
 "nbformat": 4,
 "nbformat_minor": 2
}
